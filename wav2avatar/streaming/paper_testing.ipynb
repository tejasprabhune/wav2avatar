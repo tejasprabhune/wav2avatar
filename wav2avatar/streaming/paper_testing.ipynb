{
 "cells": [
  {
   "cell_type": "code",
   "execution_count": 20,
   "metadata": {},
   "outputs": [
    {
     "name": "stderr",
     "output_type": "stream",
     "text": [
      "C:\\Users\\tejas\\AppData\\Roaming\\Python\\Python38\\site-packages\\tqdm\\auto.py:21: TqdmWarning: IProgress not found. Please update jupyter and ipywidgets. See https://ipywidgets.readthedocs.io/en/stable/user_install.html\n",
      "  from .autonotebook import tqdm as notebook_tqdm\n"
     ]
    }
   ],
   "source": [
    "import torch\n",
    "import numpy as np\n",
    "\n",
    "from wav2avatar.streaming.emformer import emformer as emf\n",
    "from wav2avatar.utils import utils\n",
    "\n",
    "import wav2avatar.inversion.wav2ema as w2e"
   ]
  },
  {
   "cell_type": "code",
   "execution_count": 19,
   "metadata": {},
   "outputs": [
    {
     "data": {
      "text/plain": [
       "<All keys matched successfully>"
      ]
     },
     "execution_count": 19,
     "metadata": {},
     "output_type": "execute_result"
    }
   ],
   "source": [
    "# Emformer Import\n",
    "\n",
    "device = 0\n",
    "input_dim=512\n",
    "num_heads=16\n",
    "ffn_dim=512\n",
    "num_layers=15\n",
    "segment_length=5\n",
    "left_context_length=20\n",
    "right_context_length=0\n",
    "\n",
    "emformer = emf.EMAEmformer(\n",
    "    input_dim=input_dim,\n",
    "    num_heads=num_heads,\n",
    "    ffn_dim=ffn_dim,\n",
    "    num_layers=num_layers,\n",
    "    segment_length=segment_length,\n",
    "    left_context_length=left_context_length\n",
    ").to(device)\n",
    "\n",
    "ckpt = torch.load(f\"../../website/ckpts/emf_l{left_context_length}_r{right_context_length}_p{segment_length}_nh{num_heads}__nl{num_layers}_ffd{ffn_dim}_0.89.pth\", map_location=\"cuda:0\")\n",
    "\n",
    "emformer.load_state_dict(ckpt[\"emformer_state_dict\"])"
   ]
  },
  {
   "cell_type": "code",
   "execution_count": 21,
   "metadata": {},
   "outputs": [
    {
     "name": "stdout",
     "output_type": "stream",
     "text": [
      "--- using cuda ---\n"
     ]
    }
   ],
   "source": [
    "# BiGRU import\n",
    "\n",
    "bigru = w2e.Wav2EMA(model_dir=\"../../../SpectrogramSynthesis/hprc_no_m1f2_h2emaph_gru_joint_nogan_model\")"
   ]
  },
  {
   "cell_type": "code",
   "execution_count": null,
   "metadata": {},
   "outputs": [],
   "source": []
  }
 ],
 "metadata": {
  "kernelspec": {
   "display_name": "gen_ema",
   "language": "python",
   "name": "python3"
  },
  "language_info": {
   "codemirror_mode": {
    "name": "ipython",
    "version": 3
   },
   "file_extension": ".py",
   "mimetype": "text/x-python",
   "name": "python",
   "nbconvert_exporter": "python",
   "pygments_lexer": "ipython3",
   "version": "3.8.17"
  }
 },
 "nbformat": 4,
 "nbformat_minor": 2
}
