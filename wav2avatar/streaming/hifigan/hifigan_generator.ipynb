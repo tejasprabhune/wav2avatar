{
 "cells": [
  {
   "cell_type": "markdown",
   "metadata": {},
   "source": [
    "# HiFiGAN Generator Types"
   ]
  },
  {
   "cell_type": "code",
   "execution_count": 1,
   "metadata": {},
   "outputs": [
    {
     "name": "stderr",
     "output_type": "stream",
     "text": [
      "/home/prabhune/miniconda3/envs/w2a/lib/python3.10/site-packages/s3prl/upstream/byol_s/byol_a/common.py:20: UserWarning: torchaudio._backend.set_audio_backend has been deprecated. With dispatcher enabled, this function is no-op. You can remove the function call.\n",
      "  torchaudio.set_audio_backend(\"sox_io\")\n",
      "ESPnet is not installed, cannot use espnet_hubert upstream\n",
      "/home/prabhune/miniconda3/envs/w2a/lib/python3.10/site-packages/tqdm/auto.py:21: TqdmWarning: IProgress not found. Please update jupyter and ipywidgets. See https://ipywidgets.readthedocs.io/en/stable/user_install.html\n",
      "  from .autonotebook import tqdm as notebook_tqdm\n"
     ]
    }
   ],
   "source": [
    "import torch\n",
    "import torch.nn\n",
    "import numpy as np\n",
    "\n",
    "import layers\n",
    "import hifigan_generator\n",
    "from importlib import reload\n",
    "import wav_ema_dataset\n",
    "from wav_ema_dataset import WavEMADataset\n",
    "import collate as wav_ema_collate\n",
    "reload(hifigan_generator)\n",
    "reload(wav_ema_collate)\n",
    "import scipy\n",
    "\n",
    "import matplotlib.pyplot as plt"
   ]
  },
  {
   "cell_type": "markdown",
   "metadata": {},
   "source": [
    "## HiFiCAR Generator: 1 second context to 5 EMA frames"
   ]
  },
  {
   "cell_type": "code",
   "execution_count": 2,
   "metadata": {},
   "outputs": [],
   "source": [
    "context_len = 50 # 1 second in 50 Hz\n",
    "out_len = 5\n",
    "ar_len = 50\n",
    "ar_ft_output = 128\n",
    "ema_channels = 12\n",
    "ar_input = ar_len * ema_channels\n",
    "ar_hidden = 256\n",
    "\n",
    "\"\"\"\n",
    "ar_model:\n",
    "    Input: (1, ema_channels, ar_len)\n",
    "    Output: (1, ar_ft_output)\n",
    "\"\"\"\n",
    "ar_model = layers.PastFCEncoder(\n",
    "    input_len=ar_input, \n",
    "    hidden_dim=ar_hidden, \n",
    "    output_dim=ar_ft_output\n",
    ")"
   ]
  },
  {
   "cell_type": "code",
   "execution_count": 3,
   "metadata": {},
   "outputs": [],
   "source": [
    "resblock_kernel_sizes=(3, 7)\n",
    "resblock_dilations=[(1, 3, 5), (1, 3, 5)]\n",
    "in_channels = 512 # WavLM CNN features\n",
    "res_channels = 256\n",
    "kernel_size = 3\n",
    "bias = True\n",
    "use_additional_convs = True\n",
    "nonlinear_activation = \"LeakyReLU\"\n",
    "nonlinear_activation_params={\"negative_slope\": 0.1}\n",
    "blocks = torch.nn.ModuleList()\n",
    "\n",
    "input_conv = torch.nn.Conv1d(\n",
    "    in_channels + ar_ft_output,\n",
    "    res_channels,\n",
    "    kernel_size,\n",
    "    1,\n",
    "    padding=1\n",
    ")\n",
    "\n",
    "for j in range(len(resblock_kernel_sizes)):\n",
    "    blocks += [\n",
    "        layers.HiFiGANResidualBlock(\n",
    "            kernel_size=resblock_kernel_sizes[j],\n",
    "            channels=res_channels,\n",
    "            dilations=resblock_dilations[j],\n",
    "            bias=bias,\n",
    "            use_additional_convs=use_additional_convs,\n",
    "            nonlinear_activation=nonlinear_activation,\n",
    "            nonlinear_activation_params=nonlinear_activation_params,\n",
    "        )\n",
    "    ]\n",
    "\n",
    "output_conv = torch.nn.Sequential(\n",
    "    torch.nn.LeakyReLU(),\n",
    "    torch.nn.Conv1d(\n",
    "        in_channels=res_channels,\n",
    "        out_channels=ema_channels,\n",
    "        kernel_size=kernel_size,\n",
    "        stride=1,\n",
    "        padding=1\n",
    "    ),\n",
    ")\n",
    "\n",
    "ema_conv = torch.nn.Sequential(\n",
    "    torch.nn.LeakyReLU(),\n",
    "    torch.nn.Conv1d(\n",
    "        in_channels=context_len,\n",
    "        out_channels=out_len,\n",
    "        kernel_size=kernel_size,\n",
    "        stride=1,\n",
    "        padding=1\n",
    "    )\n",
    ")"
   ]
  },
  {
   "cell_type": "code",
   "execution_count": 4,
   "metadata": {},
   "outputs": [
    {
     "name": "stdout",
     "output_type": "stream",
     "text": [
      "audio_test: torch.Size([1, 256, 50])\n",
      "audio_test: torch.Size([1, 50, 12])\n",
      "ema output: torch.Size([1, 12, 5])\n"
     ]
    }
   ],
   "source": [
    "# Testing\n",
    "audio_test = torch.zeros((1, 512, 50))\n",
    "\n",
    "ar_test = torch.zeros((1, ema_channels, ar_len))\n",
    "ar_feats = ar_model(ar_test)\n",
    "ar_feats = ar_feats.unsqueeze(2).repeat(1, 1, audio_test.shape[2])\n",
    "\n",
    "\n",
    "audio_test = torch.cat((audio_test, ar_feats), dim=1)\n",
    "audio_test = input_conv(audio_test)\n",
    "\n",
    "\n",
    "cs = 0.0\n",
    "for block in blocks:\n",
    "    cs += block(audio_test)\n",
    "\n",
    "audio_test = cs / len(blocks)\n",
    "\n",
    "print(f\"audio_test: {audio_test.shape}\")\n",
    "\n",
    "audio_test = output_conv(audio_test)\n",
    "\n",
    "audio_test = audio_test.permute(0, 2, 1)\n",
    "\n",
    "print(f\"audio_test: {audio_test.shape}\")\n",
    "\n",
    "ema = ema_conv(audio_test).permute(0, 2, 1)\n",
    "\n",
    "print(f\"ema output: {ema.shape}\")"
   ]
  },
  {
   "cell_type": "markdown",
   "metadata": {},
   "source": [
    "## Fix Collating"
   ]
  },
  {
   "cell_type": "code",
   "execution_count": 5,
   "metadata": {},
   "outputs": [
    {
     "name": "stdout",
     "output_type": "stream",
     "text": [
      "input audio: torch.Size([1, 512, 368])\n"
     ]
    }
   ],
   "source": [
    "audio_len = 368\n",
    "in_audio = torch.zeros((1, 512, audio_len)) # WavLM CNN features\n",
    "print(f\"input audio: {in_audio.shape}\")\n",
    "\n",
    "def collate(in_audio, context_len, step_size):\n",
    "    \"\"\"\n",
    "    Goal: \n",
    "        Input: (1, 512, audio_len)\n",
    "        Output: (audio_len // step_size, 512, context_len)\n",
    "    \"\"\"\n",
    "\n",
    "    truncated_audio = in_audio[:, :, :-(in_audio.shape[2] % context_len)]\n",
    "\n",
    "    num_batches = in_audio.shape[2] // step_size\n",
    "    collates = []\n",
    "    for batch in range(num_batches):\n",
    "        batch_start = batch * step_size\n",
    "        if (batch_start + context_len) > truncated_audio.shape[2]:\n",
    "            break\n",
    "        collates.append(truncated_audio[:, :, batch_start:(batch_start + context_len)])\n",
    "    collated = torch.cat(collates, dim=0)\n",
    "\n",
    "    return collated"
   ]
  },
  {
   "cell_type": "code",
   "execution_count": 6,
   "metadata": {},
   "outputs": [],
   "source": [
    "audio_col = collate(in_audio, 50, 5)"
   ]
  },
  {
   "cell_type": "code",
   "execution_count": 7,
   "metadata": {},
   "outputs": [
    {
     "data": {
      "text/plain": [
       "torch.Size([61, 512, 50])"
      ]
     },
     "execution_count": 7,
     "metadata": {},
     "output_type": "execute_result"
    }
   ],
   "source": [
    "audio_col.shape"
   ]
  },
  {
   "cell_type": "code",
   "execution_count": 8,
   "metadata": {},
   "outputs": [],
   "source": [
    "batch_ema = torch.zeros((1, 12, 368))\n",
    "ema_col = collate(batch_ema, 50, 5)"
   ]
  },
  {
   "cell_type": "code",
   "execution_count": 9,
   "metadata": {},
   "outputs": [
    {
     "data": {
      "text/plain": [
       "torch.Size([61, 12, 5])"
      ]
     },
     "execution_count": 9,
     "metadata": {},
     "output_type": "execute_result"
    }
   ],
   "source": [
    "ema_col[:, :, -5:].shape"
   ]
  },
  {
   "cell_type": "code",
   "execution_count": 10,
   "metadata": {},
   "outputs": [],
   "source": [
    "device = 0\n",
    "gen = hifigan_generator.HiFiGANGenerator()\n",
    "gen = gen.to(device)"
   ]
  },
  {
   "cell_type": "code",
   "execution_count": 11,
   "metadata": {},
   "outputs": [
    {
     "data": {
      "text/plain": [
       "torch.Size([61, 12, 5])"
      ]
     },
     "execution_count": 11,
     "metadata": {},
     "output_type": "execute_result"
    }
   ],
   "source": [
    "torch.manual_seed(0)\n",
    "gen(audio_col.to(device), ema_col.to(device)).shape"
   ]
  },
  {
   "cell_type": "code",
   "execution_count": 12,
   "metadata": {},
   "outputs": [
    {
     "name": "stdout",
     "output_type": "stream",
     "text": [
      "Loading files from directories...\n"
     ]
    },
    {
     "name": "stderr",
     "output_type": "stream",
     "text": [
      "/home/prabhune/miniconda3/envs/w2a/lib/python3.10/site-packages/torch/nn/utils/weight_norm.py:28: UserWarning: torch.nn.utils.weight_norm is deprecated in favor of torch.nn.utils.parametrizations.weight_norm.\n",
      "  warnings.warn(\"torch.nn.utils.weight_norm is deprecated in favor of torch.nn.utils.parametrizations.weight_norm.\")\n"
     ]
    }
   ],
   "source": [
    "dataset = WavEMADataset()"
   ]
  },
  {
   "cell_type": "code",
   "execution_count": 20,
   "metadata": {},
   "outputs": [],
   "source": [
    "train_amt = int(len(dataset) * 0.9)\n",
    "test_amt = len(dataset) - train_amt\n",
    "train_dataset, test_dataset = torch.utils.data.random_split(dataset, [train_amt, test_amt])\n",
    "dataloader = torch.utils.data.DataLoader(\n",
    "    train_dataset, \n",
    "    batch_size=16, \n",
    "    shuffle=True,\n",
    "    collate_fn=wav_ema_collate.car_collate)\n",
    "test_dataloader = torch.utils.data.DataLoader(\n",
    "    test_dataset, \n",
    "    batch_size=100, \n",
    "    shuffle=True,\n",
    "    collate_fn=wav_ema_collate.car_collate)"
   ]
  },
  {
   "cell_type": "code",
   "execution_count": 21,
   "metadata": {},
   "outputs": [],
   "source": [
    "batch = next(iter(dataloader))"
   ]
  },
  {
   "cell_type": "code",
   "execution_count": 22,
   "metadata": {},
   "outputs": [
    {
     "name": "stdout",
     "output_type": "stream",
     "text": [
      "torch.Size([53, 512, 50]) torch.Size([53, 12, 50]) torch.Size([53, 12, 50])\n"
     ]
    }
   ],
   "source": [
    "print(batch[0].shape, batch[1].shape, batch[2].shape)"
   ]
  },
  {
   "cell_type": "code",
   "execution_count": 24,
   "metadata": {},
   "outputs": [
    {
     "name": "stdout",
     "output_type": "stream",
     "text": [
      "torch.Size([53, 12, 50])\n",
      "torch.Size([53, 12, 50])\n",
      "torch.Size([53, 12, 50])\n",
      "torch.Size([2650, 12])\n"
     ]
    }
   ],
   "source": [
    "audio = batch[0].squeeze(0)\n",
    "ema = batch[1].squeeze(0)\n",
    "print(ema.shape)\n",
    "\n",
    "fmt_ema = ema.detach().cpu()\n",
    "print(fmt_ema.shape)\n",
    "\n",
    "clt_ema = wav_ema_collate.collate(ema, context_len=50)\n",
    "print(clt_ema.shape)\n",
    "\n",
    "unclt_ema = wav_ema_collate.uncollate(clt_ema).squeeze(0)\n",
    "fmt_unclt_ema = unclt_ema.transpose(1, 0).detach().cpu()\n",
    "print(fmt_unclt_ema.shape)"
   ]
  },
  {
   "cell_type": "code",
   "execution_count": 25,
   "metadata": {},
   "outputs": [],
   "source": [
    "def correlations(pred_ema, true_ema):\n",
    "    corrs = []\n",
    "    for i in range(12):\n",
    "        corr = np.corrcoef(pred_ema[i], true_ema[i])[0, 1]\n",
    "        corrs.append(corr)\n",
    "    return np.mean(corrs)"
   ]
  },
  {
   "cell_type": "code",
   "execution_count": 35,
   "metadata": {},
   "outputs": [
    {
     "name": "stdout",
     "output_type": "stream",
     "text": [
      "torch.Size([53, 512, 50])\n",
      "torch.Size([53, 12, 50])\n",
      "torch.Size([63, 512, 50])\n",
      "torch.Size([1, 12, 50])\n",
      "torch.Size([1, 12, 315])\n",
      "torch.Size([315, 12]) torch.Size([2650, 12])\n",
      "0.40850371924672885\n"
     ]
    }
   ],
   "source": [
    "# Generator -> Correct EMA output autoregressively\n",
    "@torch.no_grad()\n",
    "def eval_gen(batch):\n",
    "    # Collated features from batch\n",
    "    clt_audio = batch[0].to(device)\n",
    "    clt_ema = batch[1].to(device)\n",
    "\n",
    "    # Add 10 \"batches\" of blank collated audio as zero padding to start so\n",
    "    # the generator can autoregressively correctly generate the first 10 frames\n",
    "    first_audio = torch.zeros((10, 512, 50)).to(device)\n",
    "    clt_audio = torch.concatenate([first_audio, clt_audio], dim=0)\n",
    "\n",
    "    # Initialize first EMA CAR to zeros\n",
    "    first_ema = torch.zeros((1, 12, 50)).to(device)\n",
    "\n",
    "    # Accumulate all the predicted EMA together and reuse as context\n",
    "    context_ema = first_ema\n",
    "\n",
    "    gen_ema = []\n",
    "\n",
    "    for i in range(clt_audio.shape[0]):\n",
    "        input_audio = clt_audio[i].unsqueeze(0)\n",
    "        input_ema = context_ema[:, :, -50:]\n",
    "\n",
    "        next_gen = gen(input_audio, input_ema)\n",
    "        context_ema = torch.cat([context_ema, next_gen], dim=2)\n",
    "    context_ema = context_ema[:, :, 50:]\n",
    "\n",
    "    # Reformat for plotting purposes\n",
    "    pred_ema = context_ema.squeeze(0).transpose(1, 0).detach().cpu()\n",
    "    true_ema = wav_ema_collate.uncollate(clt_ema).squeeze(0).transpose(1, 0).detach().cpu()\n",
    "    \n",
    "    return pred_ema, true_ema\n",
    "\n",
    "print(audio.shape)\n",
    "audio = audio.to(device)\n",
    "first_ema = torch.zeros((1, 12, 50)).to(device)\n",
    "first_audio = torch.zeros((10, 512, 50)).to(device)\n",
    "clt_audio = torch.concatenate([first_audio, audio], dim=0)\n",
    "\n",
    "# clt_audio = wav_ema_collate.collate(audio, context_len=50)\n",
    "clt_ema = clt_ema\n",
    "\n",
    "print(clt_ema.shape)\n",
    "print(clt_audio.shape)\n",
    "print(first_ema.shape)\n",
    "\n",
    "# First generation\n",
    "gen_ema = gen(clt_audio[0].unsqueeze(0), first_ema)\n",
    "context_ema = first_ema\n",
    "\n",
    "gen_ema = []\n",
    "\n",
    "for i in range(clt_audio.shape[0]):\n",
    "    input_audio = clt_audio[i].unsqueeze(0)\n",
    "    input_ema = context_ema[:, :, -50:]\n",
    "\n",
    "    next_gen = gen(input_audio, input_ema)\n",
    "    context_ema = torch.cat([context_ema, next_gen], dim=2)\n",
    "context_ema = context_ema[:, :, 50:]\n",
    "print(context_ema.shape)\n",
    "\n",
    "pred_ema, true_ema = eval_gen(batch)\n",
    "print(pred_ema.shape, true_ema.shape)\n",
    "print(correlations(pred_ema, true_ema))"
   ]
  },
  {
   "cell_type": "code",
   "execution_count": 36,
   "metadata": {},
   "outputs": [
    {
     "data": {
      "text/plain": [
       "[<matplotlib.lines.Line2D at 0x7f8ca1f960e0>]"
      ]
     },
     "execution_count": 36,
     "metadata": {},
     "output_type": "execute_result"
    },
    {
     "data": {
      "image/png": "[encoded data removed]",
      "text/plain": [
       "<Figure size 640x480 with 1 Axes>"
      ]
     },
     "metadata": {},
     "output_type": "display_data"
    }
   ],
   "source": [
    "plt.plot(true_ema[:300, 0])\n",
    "plt.plot(pred_ema[:300, 0])"
   ]
  },
  {
   "cell_type": "code",
   "execution_count": 32,
   "metadata": {},
   "outputs": [],
   "source": [
    "window_size=50\n",
    "def unroll_collated(features):\n",
    "    return torch.concatenate(list(features), dim=1)\n",
    "\n",
    "@torch.no_grad()\n",
    "def eval_gen(batch):\n",
    "    x = batch[0].to(device)\n",
    "    y = batch[1].to(device)\n",
    "\n",
    "    x = uncollate(x)\n",
    "    x = wav_ema_collate.collate_features([x])\n",
    "    y_unrolled = uncollate(y)\n",
    "\n",
    "    ar = torch.zeros((1, 12, window_size)).to(device)\n",
    "    pred = []\n",
    "    for audio_feat in x:\n",
    "        audio_feat = audio_feat.unsqueeze(0)\n",
    "        pred.append(gen(audio_feat, ar)[:, :, :window_size])\n",
    "        ar = torch.concatenate([ar, pred[-1]], dim=2)[:, :, 5:]\n",
    "    full_pred = torch.concatenate(pred, dim=2).squeeze(0)\n",
    "    full_pred = full_pred.transpose(1, 0).cpu().numpy()\n",
    "    y_unrolled = y_unrolled.transpose(1, 0).cpu().numpy()\n",
    "    corrs = []\n",
    "    for i in range(12):\n",
    "        length = min(len(full_pred), len(y_unrolled))\n",
    "        corrs.append(scipy.stats.pearsonr(full_pred[:length, i], y_unrolled[:length, i])[0])\n",
    "    corr_mean = np.mean(corrs)\n",
    "    print(\"Correlations:\", corr_mean)\n",
    "    return full_pred, y_unrolled, corr_mean\n",
    "\n",
    "def uncollate(collated, step_size=5):\n",
    "    pieces = [collated[0]]\n",
    "    for i in range(1, len(collated)):\n",
    "        piece = collated[i]\n",
    "        pieces.append(piece[:, -5:])\n",
    "    return torch.concatenate(pieces, dim=1).unsqueeze(0)"
   ]
  },
  {
   "cell_type": "code",
   "execution_count": 37,
   "metadata": {},
   "outputs": [],
   "source": [
    "device = 0\n",
    "eval_batch = eval_gen(batch)"
   ]
  },
  {
   "cell_type": "code",
   "execution_count": 128,
   "metadata": {},
   "outputs": [
    {
     "data": {
      "text/plain": [
       "(100, 12)"
      ]
     },
     "execution_count": 128,
     "metadata": {},
     "output_type": "execute_result"
    }
   ],
   "source": [
    "eval_batch[1].shape"
   ]
  },
  {
   "cell_type": "code",
   "execution_count": 39,
   "metadata": {},
   "outputs": [
    {
     "data": {
      "text/plain": [
       "[<matplotlib.lines.Line2D at 0x7f8ca1c70310>]"
      ]
     },
     "execution_count": 39,
     "metadata": {},
     "output_type": "execute_result"
    },
    {
     "data": {
      "image/png": "[encoded data removed]",
      "text/plain": [
       "<Figure size 640x480 with 1 Axes>"
      ]
     },
     "metadata": {},
     "output_type": "display_data"
    }
   ],
   "source": [
    "plt.plot(eval_batch[1][:300, 0])\n",
    "plt.plot(eval_batch[0][:300, 0])"
   ]
  },
  {
   "cell_type": "code",
   "execution_count": 83,
   "metadata": {},
   "outputs": [
    {
     "name": "stdout",
     "output_type": "stream",
     "text": [
      "torch.Size([141, 12, 50])\n"
     ]
    }
   ],
   "source": [
    "ema = torch.from_numpy(np.load(\"../../inversion/ema/china_pred.npy\")).transpose(1, 0).unsqueeze(0)\n",
    "ema = batch\n",
    "ema_input = wav_ema_collate.collate(ema, 50)\n",
    "print(ema_input.shape)"
   ]
  },
  {
   "cell_type": "code",
   "execution_count": 236,
   "metadata": {},
   "outputs": [
    {
     "name": "stdout",
     "output_type": "stream",
     "text": [
      "torch.Size([1, 512, 50])\n",
      "torch.Size([1, 12, 50])\n",
      "torch.Size([1, 12, 5])\n",
      "638 585\n",
      "torch.Size([117, 512, 50]) torch.Size([117, 12, 50]) torch.Size([117, 12, 5])\n"
     ]
    }
   ],
   "source": [
    "# Collating audio and EMA features into rolled audio, EMA, and EMA_ar\n",
    "seq_len = 638\n",
    "input_audio = torch.zeros((1, 512, seq_len)).to(device)\n",
    "input_ema = torch.zeros((1, 12, seq_len)).to(device)\n",
    "\n",
    "# Add 5 frames of zero padding to the start of the EMA autoregressive input\n",
    "# to offset it by 5, then remove the extra 5 unnecessary frames at the end.\n",
    "input_ema_ar = torch.concatenate(\n",
    "    [torch.zeros((1, 12, 5)).to(device), input_ema[:, :, :seq_len-5]], dim=2).to(device)\n",
    "\n",
    "# first pass\n",
    "first_audio = input_audio[:, :, :50]\n",
    "print(first_audio.shape)\n",
    "\n",
    "first_ema_ar = input_ema_ar[:, :, :50]\n",
    "print(first_ema_ar.shape)\n",
    "\n",
    "first_ema_y = input_ema[:, :, 45:50]\n",
    "print(first_ema_y.shape)\n",
    "\n",
    "audios = []\n",
    "ema_ars = []\n",
    "emas = []\n",
    "\n",
    "truncated_seq_len = (seq_len - (seq_len % 5)) - 50\n",
    "print(seq_len, truncated_seq_len)\n",
    "for i in range(0, truncated_seq_len, 5):\n",
    "    curr_audio = input_audio[:, :, i:i+50]\n",
    "    audios.append(curr_audio)\n",
    "\n",
    "    curr_ema_ar = input_ema_ar[:, :, i:i+50]\n",
    "    ema_ars.append(curr_ema_ar)\n",
    "    \n",
    "    curr_ema = input_ema[:, :, i+45:i+50]\n",
    "    emas.append(curr_ema)\n",
    "\n",
    "audios = torch.cat(audios, dim=0)\n",
    "ema_ars = torch.cat(ema_ars, dim=0)\n",
    "emas = torch.cat(emas, dim=0)\n",
    "\n",
    "print(audios.shape, ema_ars.shape, emas.shape)\n",
    "\n",
    "def car_collate(batch):\n",
    "    audio, ema = zip(*batch)\n",
    "\n",
    "    audio = torch.cat(audio, dim=0)\n",
    "    ema = torch.cat(ema, dim=0)\n",
    "\n",
    "    audios = []\n",
    "    ema_ars = []\n",
    "    emas = []\n",
    "\n",
    "    seq_len = audio.shape[2]\n",
    "\n",
    "    truncated_seq_len = (seq_len - (seq_len % 5)) - 50\n",
    "    for i in range(0, truncated_seq_len, 5):\n",
    "        curr_audio = audio[:, :, i:i+50]\n",
    "        audios.append(curr_audio)\n",
    "\n",
    "        curr_ema_ar = ema[:, :, i:i+50]\n",
    "        ema_ars.append(curr_ema_ar)\n",
    "        \n",
    "        curr_ema = ema[:, :, i+45:i+50]\n",
    "        emas.append(curr_ema)\n",
    "\n",
    "    audios = torch.cat(audios, dim=0)\n",
    "    ema_ars = torch.cat(ema_ars, dim=0)\n",
    "    emas = torch.cat(emas, dim=0)\n",
    "\n",
    "    return audios, ema_ars, emas"
   ]
  },
  {
   "cell_type": "code",
   "execution_count": null,
   "metadata": {},
   "outputs": [],
   "source": []
  }
 ],
 "metadata": {
  "kernelspec": {
   "display_name": "w2a",
   "language": "python",
   "name": "python3"
  },
  "language_info": {
   "codemirror_mode": {
    "name": "ipython",
    "version": 3
   },
   "file_extension": ".py",
   "mimetype": "text/x-python",
   "name": "python",
   "nbconvert_exporter": "python",
   "pygments_lexer": "ipython3",
   "version": "3.10.13"
  }
 },
 "nbformat": 4,
 "nbformat_minor": 2
}
