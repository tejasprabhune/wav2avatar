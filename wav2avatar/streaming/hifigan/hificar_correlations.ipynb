{
 "cells": [
  {
   "cell_type": "code",
   "execution_count": 76,
   "metadata": {},
   "outputs": [],
   "source": [
    "import pathlib\n",
    "from tqdm import tqdm\n",
    "\n",
    "import torch\n",
    "import torch.nn.functional as F\n",
    "import scipy\n",
    "import torchaudio\n",
    "import s3prl.hub\n",
    "\n",
    "import numpy as np\n",
    "import matplotlib.pyplot as plt\n",
    "\n",
    "from wav2avatar.inversion.linear_inversion import EMADataset\n",
    "\n",
    "import wav2avatar.streaming.hifigan.collate as wav_ema_collate\n",
    "from wav2avatar.streaming.hifigan.hifigan_generator_static import HiFiGANGenerator\n",
    "import wav2avatar.utils.utils as utils\n",
    "device = 0"
   ]
  },
  {
   "cell_type": "code",
   "execution_count": 7,
   "metadata": {},
   "outputs": [
    {
     "data": {
      "text/plain": [
       "<All keys matched successfully>"
      ]
     },
     "execution_count": 7,
     "metadata": {},
     "output_type": "execute_result"
    }
   ],
   "source": [
    "device = 0\n",
    "gen = HiFiGANGenerator(\n",
    "    in_channels=512, \n",
    "    out_channels=12, \n",
    "    ar_input=600, \n",
    "    use_tanh=False,\n",
    "    use_mlp_ar=False,\n",
    "    resblock_kernel_sizes=(3, 7, 11, 15, 19),\n",
    "    resblock_dilations=[(1, 3, 5), (1, 3, 5), (1, 3, 5), (1, 3, 5), (1, 3, 5)],\n",
    "                       ).to(device)\n",
    "\n",
    "gen.load_state_dict(torch.load('ckpts/hfcar_l1_noup_5res_noadv_90_0.84.pth')[\"gen_state_dict\"])"
   ]
  },
  {
   "cell_type": "code",
   "execution_count": 192,
   "metadata": {},
   "outputs": [],
   "source": [
    "def unroll_collated(features):\n",
    "    return torch.concatenate(list(features), dim=1)\n",
    "\n",
    "def chunked_featurize(audio, forward=0):\n",
    "    #print(audio.shape)\n",
    "    feats = []\n",
    "    audio = torch.cat([audio[:, -8000:], audio], dim=1)\n",
    "    for i in range(8000, audio.shape[1], 1600):\n",
    "        start = max(0, i-8000)\n",
    "        curr_audio = audio[:, start:i+1600+forward]\n",
    "        if curr_audio.shape[1] < 1600 + forward:\n",
    "            curr_audio = F.pad(curr_audio, (0, 1600 - curr_audio.shape[1] + forward))\n",
    "        curr_feat = feature_model(curr_audio.to(device))\n",
    "        feats.append(curr_feat[:, :, -5:])\n",
    "    feats = torch.cat(feats, dim=2)\n",
    "    return feats\n",
    "\n",
    "@torch.no_grad()\n",
    "def eval_gen(batch):\n",
    "    x = batch[0].to(device)\n",
    "    y = batch[1].to(device)\n",
    "    y_unrolled = unroll_collated(y)\n",
    "\n",
    "    ar = torch.zeros((1, 12, 50)).to(device)\n",
    "    pred = []\n",
    "    for audio_feat in x:\n",
    "        pred.append(gen(audio_feat.unsqueeze(0), ar)[:, :, :50])\n",
    "        ar = pred[-1][:, :, :50]\n",
    "\n",
    "    full_pred = torch.concatenate(pred, dim=2).squeeze(0)\n",
    "    full_pred = full_pred.transpose(1, 0).cpu().numpy()\n",
    "    y_unrolled = y_unrolled.transpose(1, 0).cpu().numpy()\n",
    "    corrs = []\n",
    "    for i in range(12):\n",
    "        corrs.append(scipy.stats.pearsonr(full_pred[:, i], y_unrolled[:, i])[0])\n",
    "    print(\"Correlations:\", np.mean(corrs))\n",
    "    return full_pred, y_unrolled\n",
    "\n",
    "\n",
    "@torch.no_grad()\n",
    "def eval_audio(file, forward=0):\n",
    "    audio = torchaudio.load(file)[0].to(device)\n",
    "\n",
    "    ar = torch.zeros((1, 12, 50)).to(device)\n",
    "\n",
    "    #audio_feats = feature_model(audio.to(device))\n",
    "    audio_feats = chunked_featurize(audio.to(device))\n",
    "    #print(audio_feats.shape)\n",
    "    collated_audio = wav_ema_collate.collate_features(audio_feats.unsqueeze(0), window_size=5 + forward // 320)\n",
    "    pred = []\n",
    "    for audio_feat in collated_audio:\n",
    "        gen_feat = gen(audio_feat.unsqueeze(0), ar)\n",
    "        #print(gen_feat.shape)\n",
    "        print(gen_feat.shape, ar.shape)\n",
    "        pred.append(gen_feat)\n",
    "        prev_ar = ar[:, :, -45:]\n",
    "        ar = torch.cat([prev_ar, pred[-1][:, :, :5]], dim=2)\n",
    "    full_pred = torch.concatenate(pred, dim=2).squeeze(0)\n",
    "    #print(full_pred.shape)\n",
    "    full_pred = full_pred.transpose(1, 0).cpu().numpy()\n",
    "\n",
    "    return full_pred\n",
    "\n",
    "@torch.no_grad()\n",
    "def predict_audio(file, forward=0):\n",
    "    audio = torchaudio.load(file)[0].to(device)\n",
    "\n",
    "    ar = torch.zeros((1, 12, 50)).to(device)\n",
    "\n",
    "    audio = torch.cat([audio[:, -8000:], audio], dim=1)\n",
    "\n",
    "    feats = []\n",
    "    for i in range(8000, audio.shape[1], 1600):\n",
    "        #start = max(0, i-8000)\n",
    "        curr_audio = audio[:, i:i+1600+forward]\n",
    "        if curr_audio.shape[1] < 1600 + forward:\n",
    "            curr_audio = F.pad(curr_audio, (0, 1600 - curr_audio.shape[1] + forward))\n",
    "        audio_feats = feature_model(curr_audio.to(device))\n",
    "        if audio_feats.shape[2] < 50:\n",
    "            target = torch.zeros(audio_feats.shape[0], audio_feats.shape[1], 50).to(device)\n",
    "            target[:, :, -audio_feats.shape[2]:] = audio_feats\n",
    "            audio_feats = target\n",
    "            #audio_feats = F.pad(audio_feats, (0, 50 - audio_feats.shape[2]))\n",
    "        else:\n",
    "            audio_feats = audio_feats[:, :, :50]\n",
    "        #print(audio_feats.shape, ar.shape)\n",
    "        gen_feat = gen(audio_feats, ar)\n",
    "        #print(gen_feat.shape)\n",
    "        curr_ema = gen_feat[:, :, -5 - forward // 320:-forward // 320 or None]\n",
    "        if curr_ema.shape[2] == 0:\n",
    "            curr_ema = gen_feat[:, :, :5]\n",
    "        #print(curr_ema.shape)\n",
    "        feats.append(curr_ema)\n",
    "        ar = torch.cat([ar[:, :, -45:], curr_ema], dim=2)\n",
    "    feat = torch.cat(feats, dim=2).squeeze(0).transpose(0, 1).cpu().numpy()\n",
    "    #print(feat.shape)\n",
    "    return feat\n",
    "\n",
    "def mngu0_to_hprc(arr):\n",
    "    arr_td = arr[:, 0:2]\n",
    "\n",
    "    arr_tb = arr[:, 2:4]\n",
    "\n",
    "    arr_tt = arr[:, 4:6]\n",
    "\n",
    "    arr_li = arr[:, 6:8] # locked\n",
    "\n",
    "    arr_ul = arr[:, 8:10] # locked\n",
    "\n",
    "    arr_ll = arr[:, 10:12] # locked\n",
    "\n",
    "    arr[:, 0] = arr_li[:, 0] * -1\n",
    "    arr[:, 1] = arr_li[:, 1]\n",
    "    arr[:, 2] = arr_ul[:, 0] * -1\n",
    "    arr[:, 3] = arr_ul[:, 1]\n",
    "    arr[:, 4] = arr_ll[:, 0] * -1\n",
    "    arr[:, 5] = arr_ll[:, 1]\n",
    "    arr[:, 6] = arr_tt[:, 0] * -1\n",
    "    arr[:, 7] = arr_tt[:, 1]\n",
    "    arr[:, 8] = arr_tb[:, 0] * -1\n",
    "    arr[:, 9] = arr_tb[:, 1]\n",
    "    arr[:, 10] = arr_td[:, 0] * -1\n",
    "    arr[:, 11] = arr_td[:, 1]\n"
   ]
  },
  {
   "cell_type": "code",
   "execution_count": 93,
   "metadata": {},
   "outputs": [
    {
     "name": "stderr",
     "output_type": "stream",
     "text": [
      "/home/prabhune/miniconda3/envs/w2a/lib/python3.10/site-packages/torch/nn/utils/weight_norm.py:28: UserWarning: torch.nn.utils.weight_norm is deprecated in favor of torch.nn.utils.parametrizations.weight_norm.\n",
      "  warnings.warn(\"torch.nn.utils.weight_norm is deprecated in favor of torch.nn.utils.parametrizations.weight_norm.\")\n"
     ]
    }
   ],
   "source": [
    "feature_model = getattr(s3prl.hub, \"wavlm_large\")()\n",
    "feature_model = feature_model.model.feature_extractor.to(device)"
   ]
  },
  {
   "cell_type": "code",
   "execution_count": 189,
   "metadata": {},
   "outputs": [
    {
     "name": "stdout",
     "output_type": "stream",
     "text": [
      "torch.Size([1, 512, 50]) torch.Size([1, 12, 50])\n",
      "torch.Size([1, 12, 50])\n",
      "torch.Size([1, 12, 5])\n",
      "torch.Size([1, 512, 50]) torch.Size([1, 12, 50])\n",
      "torch.Size([1, 12, 50])\n",
      "torch.Size([1, 12, 5])\n",
      "torch.Size([1, 512, 50]) torch.Size([1, 12, 50])\n",
      "torch.Size([1, 12, 50])\n",
      "torch.Size([1, 12, 5])\n",
      "torch.Size([1, 512, 50]) torch.Size([1, 12, 50])\n",
      "torch.Size([1, 12, 50])\n",
      "torch.Size([1, 12, 5])\n",
      "torch.Size([1, 512, 50]) torch.Size([1, 12, 50])\n",
      "torch.Size([1, 12, 50])\n",
      "torch.Size([1, 12, 5])\n",
      "torch.Size([1, 512, 50]) torch.Size([1, 12, 50])\n",
      "torch.Size([1, 12, 50])\n",
      "torch.Size([1, 12, 5])\n",
      "torch.Size([1, 512, 50]) torch.Size([1, 12, 50])\n",
      "torch.Size([1, 12, 50])\n",
      "torch.Size([1, 12, 5])\n",
      "torch.Size([1, 512, 50]) torch.Size([1, 12, 50])\n",
      "torch.Size([1, 12, 50])\n",
      "torch.Size([1, 12, 5])\n",
      "torch.Size([1, 512, 50]) torch.Size([1, 12, 50])\n",
      "torch.Size([1, 12, 50])\n",
      "torch.Size([1, 12, 5])\n",
      "torch.Size([1, 512, 50]) torch.Size([1, 12, 50])\n",
      "torch.Size([1, 12, 50])\n",
      "torch.Size([1, 12, 5])\n",
      "torch.Size([1, 512, 50]) torch.Size([1, 12, 50])\n",
      "torch.Size([1, 12, 50])\n",
      "torch.Size([1, 12, 5])\n",
      "torch.Size([1, 512, 50]) torch.Size([1, 12, 50])\n",
      "torch.Size([1, 12, 50])\n",
      "torch.Size([1, 12, 5])\n",
      "torch.Size([1, 512, 50]) torch.Size([1, 12, 50])\n",
      "torch.Size([1, 12, 50])\n",
      "torch.Size([1, 12, 5])\n",
      "torch.Size([1, 512, 50]) torch.Size([1, 12, 50])\n",
      "torch.Size([1, 12, 50])\n",
      "torch.Size([1, 12, 5])\n",
      "torch.Size([1, 512, 50]) torch.Size([1, 12, 50])\n",
      "torch.Size([1, 12, 50])\n",
      "torch.Size([1, 12, 5])\n",
      "torch.Size([1, 512, 50]) torch.Size([1, 12, 50])\n",
      "torch.Size([1, 12, 50])\n",
      "torch.Size([1, 12, 5])\n",
      "torch.Size([1, 512, 50]) torch.Size([1, 12, 50])\n",
      "torch.Size([1, 12, 50])\n",
      "torch.Size([1, 12, 5])\n",
      "torch.Size([1, 512, 50]) torch.Size([1, 12, 50])\n",
      "torch.Size([1, 12, 50])\n",
      "torch.Size([1, 12, 5])\n",
      "torch.Size([1, 512, 50]) torch.Size([1, 12, 50])\n",
      "torch.Size([1, 12, 50])\n",
      "torch.Size([1, 12, 5])\n",
      "torch.Size([1, 512, 50]) torch.Size([1, 12, 50])\n",
      "torch.Size([1, 12, 50])\n",
      "torch.Size([1, 12, 5])\n",
      "torch.Size([1, 512, 50]) torch.Size([1, 12, 50])\n",
      "torch.Size([1, 12, 50])\n",
      "torch.Size([1, 12, 5])\n",
      "torch.Size([1, 512, 50]) torch.Size([1, 12, 50])\n",
      "torch.Size([1, 12, 50])\n",
      "torch.Size([1, 12, 5])\n",
      "torch.Size([1, 512, 50]) torch.Size([1, 12, 50])\n",
      "torch.Size([1, 12, 50])\n",
      "torch.Size([1, 12, 5])\n",
      "torch.Size([1, 512, 50]) torch.Size([1, 12, 50])\n",
      "torch.Size([1, 12, 50])\n",
      "torch.Size([1, 12, 5])\n",
      "torch.Size([1, 512, 50]) torch.Size([1, 12, 50])\n",
      "torch.Size([1, 12, 50])\n",
      "torch.Size([1, 12, 5])\n",
      "torch.Size([1, 512, 50]) torch.Size([1, 12, 50])\n",
      "torch.Size([1, 12, 50])\n",
      "torch.Size([1, 12, 5])\n",
      "torch.Size([1, 512, 50]) torch.Size([1, 12, 50])\n",
      "torch.Size([1, 12, 50])\n",
      "torch.Size([1, 12, 5])\n",
      "torch.Size([1, 512, 50]) torch.Size([1, 12, 50])\n",
      "torch.Size([1, 12, 50])\n",
      "torch.Size([1, 12, 5])\n",
      "torch.Size([1, 512, 50]) torch.Size([1, 12, 50])\n",
      "torch.Size([1, 12, 50])\n",
      "torch.Size([1, 12, 5])\n",
      "torch.Size([1, 512, 50]) torch.Size([1, 12, 50])\n",
      "torch.Size([1, 12, 50])\n",
      "torch.Size([1, 12, 5])\n",
      "torch.Size([1, 512, 50]) torch.Size([1, 12, 50])\n",
      "torch.Size([1, 12, 50])\n",
      "torch.Size([1, 12, 5])\n",
      "torch.Size([1, 512, 50]) torch.Size([1, 12, 50])\n",
      "torch.Size([1, 12, 50])\n",
      "torch.Size([1, 12, 5])\n",
      "torch.Size([1, 512, 50]) torch.Size([1, 12, 50])\n",
      "torch.Size([1, 12, 50])\n",
      "torch.Size([1, 12, 5])\n",
      "torch.Size([1, 512, 50]) torch.Size([1, 12, 50])\n",
      "torch.Size([1, 12, 50])\n",
      "torch.Size([1, 12, 5])\n",
      "torch.Size([1, 512, 50]) torch.Size([1, 12, 50])\n",
      "torch.Size([1, 12, 50])\n",
      "torch.Size([1, 12, 5])\n",
      "torch.Size([1, 512, 50]) torch.Size([1, 12, 50])\n",
      "torch.Size([1, 12, 50])\n",
      "torch.Size([1, 12, 5])\n",
      "torch.Size([1, 512, 50]) torch.Size([1, 12, 50])\n",
      "torch.Size([1, 12, 50])\n",
      "torch.Size([1, 12, 5])\n",
      "torch.Size([1, 512, 50]) torch.Size([1, 12, 50])\n",
      "torch.Size([1, 12, 50])\n",
      "torch.Size([1, 12, 5])\n",
      "torch.Size([1, 512, 50]) torch.Size([1, 12, 50])\n",
      "torch.Size([1, 12, 50])\n",
      "torch.Size([1, 12, 5])\n",
      "torch.Size([1, 512, 50]) torch.Size([1, 12, 50])\n",
      "torch.Size([1, 12, 50])\n",
      "torch.Size([1, 12, 5])\n",
      "torch.Size([1, 512, 50]) torch.Size([1, 12, 50])\n",
      "torch.Size([1, 12, 50])\n",
      "torch.Size([1, 12, 5])\n",
      "torch.Size([1, 512, 50]) torch.Size([1, 12, 50])\n",
      "torch.Size([1, 12, 50])\n",
      "torch.Size([1, 12, 5])\n",
      "torch.Size([1, 512, 50]) torch.Size([1, 12, 50])\n",
      "torch.Size([1, 12, 50])\n",
      "torch.Size([1, 12, 5])\n",
      "torch.Size([1, 512, 50]) torch.Size([1, 12, 50])\n",
      "torch.Size([1, 12, 50])\n",
      "torch.Size([1, 12, 5])\n",
      "torch.Size([1, 512, 50]) torch.Size([1, 12, 50])\n",
      "torch.Size([1, 12, 50])\n",
      "torch.Size([1, 12, 5])\n",
      "torch.Size([1, 512, 50]) torch.Size([1, 12, 50])\n",
      "torch.Size([1, 12, 50])\n",
      "torch.Size([1, 12, 5])\n",
      "torch.Size([1, 512, 50]) torch.Size([1, 12, 50])\n",
      "torch.Size([1, 12, 50])\n",
      "torch.Size([1, 12, 5])\n",
      "torch.Size([1, 512, 50]) torch.Size([1, 12, 50])\n",
      "torch.Size([1, 12, 50])\n",
      "torch.Size([1, 12, 5])\n",
      "torch.Size([1, 512, 50]) torch.Size([1, 12, 50])\n",
      "torch.Size([1, 12, 50])\n",
      "torch.Size([1, 12, 5])\n",
      "torch.Size([1, 512, 50]) torch.Size([1, 12, 50])\n",
      "torch.Size([1, 12, 50])\n",
      "torch.Size([1, 12, 5])\n",
      "torch.Size([1, 512, 50]) torch.Size([1, 12, 50])\n",
      "torch.Size([1, 12, 50])\n",
      "torch.Size([1, 12, 5])\n",
      "torch.Size([1, 512, 50]) torch.Size([1, 12, 50])\n",
      "torch.Size([1, 12, 50])\n",
      "torch.Size([1, 12, 5])\n",
      "torch.Size([1, 512, 50]) torch.Size([1, 12, 50])\n",
      "torch.Size([1, 12, 50])\n",
      "torch.Size([1, 12, 5])\n",
      "torch.Size([1, 512, 50]) torch.Size([1, 12, 50])\n",
      "torch.Size([1, 12, 50])\n",
      "torch.Size([1, 12, 5])\n",
      "(270, 12)\n",
      "(261, 12) (270, 12)\n"
     ]
    }
   ],
   "source": [
    "audio_file = \"../../inversion/wav/mngu0_s1_1165.wav\"\n",
    "ema_file = \"../../inversion/ema/mngu0_s1_1165_gt.npy\"\n",
    "\n",
    "audio, sr = torchaudio.load(\"../../inversion/wav/mngu0_s1_1165.wav\")\n",
    "#audio, sr = torchaudio.load(audio_file)\n",
    "audio = torchaudio.functional.resample(\n",
    "    audio, orig_freq=sr, new_freq=16000\n",
    ")[0].unsqueeze(0)\n",
    "#audio = torch.concatenate([audio, audio], dim=1)\n",
    "#print(audio.shape)\n",
    "true_ema = np.load(\"../../inversion/ema/mngu0_s1_1165_gt.npy\")\n",
    "true_ema = EMADataset.downsample_by_mean(true_ema, int(200 / 50))\n",
    "true_ema = EMADataset.butter_bandpass_filter(true_ema, 10, 50)\n",
    "mngu0_to_hprc(true_ema)\n",
    "#pred_ema = eval_audio(audio_file, forward=forwards[3])\n",
    "pred_ema = predict_audio(audio_file, forward=forwards[3])\n",
    "print(true_ema.shape, pred_ema.shape)"
   ]
  },
  {
   "cell_type": "code",
   "execution_count": 190,
   "metadata": {},
   "outputs": [
    {
     "name": "stdout",
     "output_type": "stream",
     "text": [
      "Feature corr: PearsonRResult(statistic=0.7593361375124535, pvalue=3.010269156891321e-50)\n"
     ]
    },
    {
     "data": {
      "image/png": "[encoded data removed]",
      "text/plain": [
       "<Figure size 640x480 with 1 Axes>"
      ]
     },
     "metadata": {},
     "output_type": "display_data"
    }
   ],
   "source": [
    "feat_num = 5\n",
    "plot_len = min(len(pred_ema), len(true_ema))\n",
    "plt.plot(true_ema[:plot_len, feat_num], label=\"target\")\n",
    "plt.plot(pred_ema[:plot_len, feat_num], label=\"pred\")\n",
    "plt.legend()\n",
    "print(\"Feature corr:\", scipy.stats.pearsonr(pred_ema[:plot_len, feat_num], true_ema[:plot_len, feat_num]))"
   ]
  },
  {
   "cell_type": "code",
   "execution_count": 36,
   "metadata": {},
   "outputs": [],
   "source": [
    "parts = [\"li\", \"ul\", \"ll\", \"tt\", \"tb\", \"td\"]\n",
    "def get_flattened_range(arr, start, end):\n",
    "    dim = arr[:, start:end]\n",
    "    dim = list(dim.reshape(len(dim),))\n",
    "    return dim\n",
    "\n",
    "def get_corrs_npy(ground_truth, predicted, lower_hz=False, get_traces=False):\n",
    "\n",
    "    if lower_hz:\n",
    "        ground_truth = lower_hz(ground_truth)\n",
    "    min_length = min(len(ground_truth), len(predicted))\n",
    "    ground_truth = ground_truth[:min_length]\n",
    "    predicted = predicted[:min_length]\n",
    "\n",
    "    gt_parts = []\n",
    "    p_parts = []\n",
    "\n",
    "    for i in range(0, 12):\n",
    "        gt_parts.append(get_flattened_range(ground_truth, i, i + 1))\n",
    "        p_parts.append(get_flattened_range(predicted, i, i + 1))\n",
    "    \n",
    "\n",
    "    corrs = []\n",
    "    corr_dict = {}\n",
    "\n",
    "    for part in parts:\n",
    "        corr_dict[part] = []\n",
    "\n",
    "    for i in range(12):\n",
    "        corr = scipy.stats.pearsonr(gt_parts[i], p_parts[i])\n",
    "        corrs.append(corr.statistic)\n",
    "        corr_dict[parts[i // 2]].append(round(corr.statistic, 3))\n",
    "\n",
    "    if get_traces:\n",
    "        return corr_dict, gt_parts, p_parts\n",
    "    else:\n",
    "        return corr_dict, np.array(corrs)"
   ]
  },
  {
   "cell_type": "code",
   "execution_count": 37,
   "metadata": {},
   "outputs": [],
   "source": [
    "corr_dict, corrs = get_corrs_npy(true_ema, pred_ema)"
   ]
  },
  {
   "cell_type": "code",
   "execution_count": 52,
   "metadata": {},
   "outputs": [
    {
     "data": {
      "text/plain": [
       "(12,)"
      ]
     },
     "execution_count": 52,
     "metadata": {},
     "output_type": "execute_result"
    }
   ],
   "source": [
    "corrs.shape"
   ]
  },
  {
   "cell_type": "code",
   "execution_count": 1,
   "metadata": {},
   "outputs": [],
   "source": [
    "with open(\"../../../../mngu0/split/test.txt\", \"r\") as f:\n",
    "    lines = f.readlines()\n",
    "lines = [line[:-1] for line in lines]"
   ]
  },
  {
   "cell_type": "code",
   "execution_count": 2,
   "metadata": {},
   "outputs": [
    {
     "ename": "NameError",
     "evalue": "name 'pathlib' is not defined",
     "output_type": "error",
     "traceback": [
      "\u001b[1;31m---------------------------------------------------------------------------\u001b[0m",
      "\u001b[1;31mNameError\u001b[0m                                 Traceback (most recent call last)",
      "Cell \u001b[1;32mIn[2], line 1\u001b[0m\n\u001b[1;32m----> 1\u001b[0m mngu0_root \u001b[38;5;241m=\u001b[39m \u001b[43mpathlib\u001b[49m\u001b[38;5;241m.\u001b[39mPath(\u001b[38;5;124m\"\u001b[39m\u001b[38;5;124mC:\u001b[39m\u001b[38;5;130;01m\\\\\u001b[39;00m\u001b[38;5;124mUsers\u001b[39m\u001b[38;5;130;01m\\\\\u001b[39;00m\u001b[38;5;124mtejas\u001b[39m\u001b[38;5;130;01m\\\\\u001b[39;00m\u001b[38;5;124mDocuments\u001b[39m\u001b[38;5;130;01m\\\\\u001b[39;00m\u001b[38;5;124mUCBerkeley\u001b[39m\u001b[38;5;130;01m\\\\\u001b[39;00m\u001b[38;5;124mbci\u001b[39m\u001b[38;5;130;01m\\\\\u001b[39;00m\u001b[38;5;124mmngu0\u001b[39m\u001b[38;5;130;01m\\\\\u001b[39;00m\u001b[38;5;124m\"\u001b[39m)\n\u001b[0;32m      3\u001b[0m \u001b[38;5;28;01mwith\u001b[39;00m \u001b[38;5;28mopen\u001b[39m(mngu0_root \u001b[38;5;241m/\u001b[39m \u001b[38;5;124m\"\u001b[39m\u001b[38;5;124msplit\u001b[39m\u001b[38;5;124m\"\u001b[39m \u001b[38;5;241m/\u001b[39m \u001b[38;5;124m\"\u001b[39m\u001b[38;5;124mtest.txt\u001b[39m\u001b[38;5;124m\"\u001b[39m, \u001b[38;5;124m\"\u001b[39m\u001b[38;5;124mr\u001b[39m\u001b[38;5;124m\"\u001b[39m) \u001b[38;5;28;01mas\u001b[39;00m f:\n\u001b[0;32m      4\u001b[0m     lines \u001b[38;5;241m=\u001b[39m f\u001b[38;5;241m.\u001b[39mreadlines()\n",
      "\u001b[1;31mNameError\u001b[0m: name 'pathlib' is not defined"
     ]
    }
   ],
   "source": [
    "mngu0_root = pathlib.Path(\"C:\\\\Users\\\\tejas\\\\Documents\\\\UCBerkeley\\\\bci\\\\mngu0\\\\\")\n",
    "\n",
    "with open(mngu0_root / \"split\" / \"test.txt\", \"r\") as f:\n",
    "    lines = f.readlines()\n",
    "lines = [line[:-1] for line in lines]"
   ]
  },
  {
   "cell_type": "code",
   "execution_count": 91,
   "metadata": {},
   "outputs": [
    {
     "name": "stderr",
     "output_type": "stream",
     "text": [
      "  0%|          | 0/119 [00:00<?, ?it/s]"
     ]
    },
    {
     "name": "stderr",
     "output_type": "stream",
     "text": [
      "100%|██████████| 119/119 [00:04<00:00, 25.97it/s]\n"
     ]
    }
   ],
   "source": [
    "def get_gen_corrs(audio_file, ema_file):\n",
    "    audio, sr = torchaudio.load(audio_file)\n",
    "    audio = torchaudio.functional.resample(\n",
    "        audio, orig_freq=sr, new_freq=16000\n",
    "    )[0].unsqueeze(0)\n",
    "    true_ema = np.load(ema_file)\n",
    "    true_ema = EMADataset.downsample_by_mean(true_ema, int(200 / 50))\n",
    "    true_ema = EMADataset.butter_bandpass_filter(true_ema, 10, 50)\n",
    "    mngu0_to_hprc(true_ema)\n",
    "    pred_ema = eval_audio(audio, true_ema)\n",
    "    true_ema = true_ema[:len(pred_ema)]\n",
    "    \n",
    "    _, corrs = get_corrs_npy(true_ema, pred_ema)\n",
    "\n",
    "    return corrs\n",
    "\n",
    "mngu0_root = pathlib.Path(\"C:\\\\Users\\\\tejas\\\\Documents\\\\UCBerkeley\\\\bci\\\\mngu0\\\\\")\n",
    "wav_root = mngu0_root / \"wav\"\n",
    "ema_root = mngu0_root / \"ema\"\n",
    "\n",
    "with open(mngu0_root / \"split\" / \"test.txt\", \"r\") as f:\n",
    "    lines = f.readlines()\n",
    "lines = [line[:-1] for line in lines]\n",
    "\n",
    "corrs = np.zeros((12,))\n",
    "from tqdm import tqdm\n",
    "for line in tqdm(lines):\n",
    "    audio_file = wav_root / f\"{line}.wav\"\n",
    "    ema_file = ema_root / f\"{line}.npy\"\n",
    "\n",
    "    corrs += get_gen_corrs(audio_file, ema_file)\n",
    "\n",
    "corrs /= len(lines)"
   ]
  },
  {
   "cell_type": "code",
   "execution_count": 92,
   "metadata": {},
   "outputs": [],
   "source": [
    "corr_dict = {parts[i // 2]: list(corrs[i:i+2].round(3)) for i in range(0, 11, 2)}"
   ]
  },
  {
   "cell_type": "code",
   "execution_count": 93,
   "metadata": {},
   "outputs": [
    {
     "data": {
      "text/plain": [
       "0.7838962934256478"
      ]
     },
     "execution_count": 93,
     "metadata": {},
     "output_type": "execute_result"
    }
   ],
   "source": [
    "np.mean(corrs)"
   ]
  },
  {
   "cell_type": "code",
   "execution_count": 94,
   "metadata": {},
   "outputs": [
    {
     "name": "stdout",
     "output_type": "stream",
     "text": [
      "CNN-CAR HiFiCAR Correlations on MNGU0 Test Set:\n",
      "Average: 0.784 +- 0.044\n",
      "{'li': [0.786, 0.858],\n",
      " 'll': [0.789, 0.807],\n",
      " 'tb': [0.73, 0.736],\n",
      " 'td': [0.787, 0.857],\n",
      " 'tt': [0.789, 0.807],\n",
      " 'ul': [0.725, 0.735]}\n"
     ]
    }
   ],
   "source": [
    "import pprint\n",
    "print(f\"CNN-CAR HiFiCAR Correlations on MNGU0 Test Set:\\nAverage: {np.mean(corrs).round(3)} +- {np.std(corrs).round(3)}\")\n",
    "pprint.pprint(corr_dict)"
   ]
  },
  {
   "cell_type": "code",
   "execution_count": 72,
   "metadata": {},
   "outputs": [
    {
     "data": {
      "text/plain": [
       "array([0.78635434, 0.85812034, 0.72506983, 0.73480505, 0.78896194,\n",
       "       0.80672821, 0.78898563, 0.80700815, 0.73026367, 0.73628063,\n",
       "       0.78700402, 0.85717372])"
      ]
     },
     "execution_count": 72,
     "metadata": {},
     "output_type": "execute_result"
    }
   ],
   "source": [
    "corrs"
   ]
  },
  {
   "cell_type": "code",
   "execution_count": 60,
   "metadata": {},
   "outputs": [],
   "source": [
    "mngu0_root = pathlib.Path(\"/data/prabhune/mngu0/mngu0/\")\n",
    "\n",
    "with open(mngu0_root / \"split\" / \"test.txt\", \"r\") as f:\n",
    "    lines = f.readlines()\n",
    "lines = [line[:-1] for line in lines]"
   ]
  },
  {
   "cell_type": "code",
   "execution_count": 193,
   "metadata": {},
   "outputs": [
    {
     "name": "stderr",
     "output_type": "stream",
     "text": [
      "100%|██████████| 119/119 [00:28<00:00,  4.10it/s, corr=0.583]\n",
      "100%|██████████| 119/119 [00:28<00:00,  4.14it/s, corr=0.603]\n",
      "100%|██████████| 119/119 [00:28<00:00,  4.16it/s, corr=0.66] \n",
      "100%|██████████| 119/119 [00:27<00:00,  4.31it/s, corr=0.671]\n"
     ]
    }
   ],
   "source": [
    "forwards = [0, 320, 1280, 16000]\n",
    "hfcar_mngu0_corrs_forwards = []\n",
    "\n",
    "for i, forward in enumerate(forwards):\n",
    "    hfcar_mngu0_corrs = []\n",
    "    line_tqdm = tqdm(lines)\n",
    "    for line in line_tqdm:\n",
    "        file = mngu0_root / \"wav\" / f\"{line}.wav\"\n",
    "        ema_file = mngu0_root / \"ema\" / f\"{line}.npy\"\n",
    "\n",
    "        gt_ema = np.load(ema_file)\n",
    "        #gt_ema = utils.Utils.mngu0_to_hprc(gt_ema)\n",
    "        mngu0_to_hprc(gt_ema)\n",
    "        gt_ema = EMADataset.butter_bandpass_filter(gt_ema, 10, 50)\n",
    "        gt_ema = EMADataset.downsample_by_mean(gt_ema, 200 // 50)\n",
    "\n",
    "\n",
    "        pred_ema = predict_audio(file, forward=forward)\n",
    "        pred_ema = utils.Utils.mngu0_to_hprc(pred_ema)\n",
    "        feat = 8\n",
    "\n",
    "        plot_len = min(pred_ema.shape[0], gt_ema.shape[0])\n",
    "\n",
    "        feat_corrs = []\n",
    "        for i in range(12):\n",
    "            corr = scipy.stats.pearsonr(pred_ema[:plot_len, i], gt_ema[:plot_len, i])\n",
    "            feat_corrs.append(corr[0])\n",
    "\n",
    "        feat_mean = np.mean(feat_corrs)\n",
    "        line_tqdm.set_postfix(corr=feat_mean)\n",
    "        hfcar_mngu0_corrs.append(feat_mean)\n",
    "    \n",
    "    hfcar_mngu0_corrs_forwards.append(hfcar_mngu0_corrs)"
   ]
  },
  {
   "cell_type": "code",
   "execution_count": 195,
   "metadata": {},
   "outputs": [
    {
     "name": "stdout",
     "output_type": "stream",
     "text": [
      "0.57390136392382 0.08783047826266015\n",
      "0.607999842115632 0.07872376865283878\n",
      "0.6482947529470588 0.0794577937200139\n",
      "0.7067240270722136 0.08287209857854792\n"
     ]
    }
   ],
   "source": [
    "for i in range(4):\n",
    "    print(np.mean(hfcar_mngu0_corrs_forwards[i]), np.std(hfcar_mngu0_corrs_forwards[i]))"
   ]
  },
  {
   "cell_type": "code",
   "execution_count": null,
   "metadata": {},
   "outputs": [],
   "source": []
  }
 ],
 "metadata": {
  "kernelspec": {
   "display_name": "gen_ema",
   "language": "python",
   "name": "python3"
  },
  "language_info": {
   "codemirror_mode": {
    "name": "ipython",
    "version": 3
   },
   "file_extension": ".py",
   "mimetype": "text/x-python",
   "name": "python",
   "nbconvert_exporter": "python",
   "pygments_lexer": "ipython3",
   "version": "3.10.13"
  }
 },
 "nbformat": 4,
 "nbformat_minor": 2
}
