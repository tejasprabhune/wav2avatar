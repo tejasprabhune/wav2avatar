{
 "cells": [
  {
   "cell_type": "markdown",
   "metadata": {},
   "source": [
    "# Analyze GT MRI data"
   ]
  },
  {
   "cell_type": "markdown",
   "metadata": {},
   "source": [
    "83.333 Hz MRI coordinates, 310 channels, 155 x-y coordinate pairs"
   ]
  },
  {
   "cell_type": "code",
   "execution_count": 1,
   "metadata": {},
   "outputs": [],
   "source": [
    "import numpy as np\n",
    "import matplotlib.pyplot as plt"
   ]
  },
  {
   "cell_type": "code",
   "execution_count": 24,
   "metadata": {},
   "outputs": [
    {
     "name": "stdout",
     "output_type": "stream",
     "text": [
      "Shape of imported npy (seq_len, 310): (61, 310)\n"
     ]
    }
   ],
   "source": [
    "sacra_r1_import = np.load(\"../../../mri/gt_npy/F_25_Napa_bVt_r1_0.npy\", allow_pickle=True)\n",
    "\n",
    "print(f\"Shape of imported npy (seq_len, 310): {sacra_r1_import.shape}\")"
   ]
  },
  {
   "cell_type": "code",
   "execution_count": 25,
   "metadata": {},
   "outputs": [],
   "source": [
    "def convert2pltorder(arr):\n",
    "    \"\"\"\n",
    "    Args\n",
    "        arr: shape (seq_len, 310)\n",
    "            feat_list = [feat0[:, 0], feat0[:, 1],\n",
    "                         new_feat1[:, 0], new_feat1[:, 1],\n",
    "                         feat2[:, 0], feat2[:, 1]]\n",
    "            new_feat1 has length 25\n",
    "    Return:\n",
    "        new_arr: shape (seq_len, 170, 2)\n",
    "            idxs [90,105) out of [0,170) are for back features\n",
    "            feat0 (70), feat1 (40), feat2 (60)\n",
    "    \"\"\"\n",
    "    track_array = []\n",
    "    for carr in arr:\n",
    "        feat0_x = carr[:70]\n",
    "        feat0_y = carr[70:140]\n",
    "        feat1_x = np.concatenate([carr[140:160], np.zeros(15), carr[160:165]])\n",
    "        feat1_y = np.concatenate([carr[165:185], np.zeros(15), carr[185:190]])\n",
    "        feat2_x = carr[190:250]\n",
    "        feat2_y = carr[250:]\n",
    "        frame_array = np.stack([np.concatenate([feat0_x, feat1_x, feat2_x]), np.concatenate([feat0_y, feat1_y, feat2_y])], axis=0).transpose(1, 0)  # (170, 2)\n",
    "        track_array.append(frame_array)\n",
    "    track_array = np.stack(track_array, axis=0)  # (Y, 170, 2)\n",
    "    return track_array"
   ]
  },
  {
   "cell_type": "code",
   "execution_count": 26,
   "metadata": {},
   "outputs": [
    {
     "name": "stdout",
     "output_type": "stream",
     "text": [
      "Shape of converted npy (seq_len, 170, 2): (61, 170, 2)\n"
     ]
    }
   ],
   "source": [
    "sacra_converted = convert2pltorder(sacra_r1_import)\n",
    "\n",
    "print(f\"Shape of converted npy (seq_len, 170, 2): {sacra_converted.shape}\")"
   ]
  },
  {
   "cell_type": "markdown",
   "metadata": {},
   "source": [
    "## Mapping converted npy to specific parts:\n",
    "\n",
    "epiglottis:     0:10\n",
    "\n",
    "tongue:         10:30\n",
    "\n",
    "lower teeth:    30:35\n",
    "\n",
    "lower lip:      35:45\n",
    "\n",
    "chin:           45:60\n",
    "\n",
    "neck:           60:70\n",
    "\n",
    "arytenoid:      70:80\n",
    "\n",
    "pharynx:        80:90\n",
    "\n",
    "back:           90:105\n",
    "\n",
    "trachea:        105:110\n",
    "\n",
    "hard palate:    110:120\n",
    "\n",
    "velum:          120:135\n",
    "\n",
    "nasal cavity:   135:150\n",
    "\n",
    "nose:           150:160\n",
    "\n",
    "upper lip:      160:170\n",
    "\n",
    "We care about tongue, so we will use 10:30"
   ]
  },
  {
   "cell_type": "code",
   "execution_count": 27,
   "metadata": {},
   "outputs": [
    {
     "name": "stdout",
     "output_type": "stream",
     "text": [
      "Shape of tongue_sacra (seq_len, 20, 2): (61, 20, 2)\n"
     ]
    }
   ],
   "source": [
    "tongue_sacra = np.array([i[10:30] for i in sacra_converted])\n",
    "print(f\"Shape of tongue_sacra (seq_len, 20, 2): {tongue_sacra.shape}\")"
   ]
  },
  {
   "cell_type": "markdown",
   "metadata": {},
   "source": [
    "# Visualizing tongue"
   ]
  },
  {
   "cell_type": "code",
   "execution_count": 29,
   "metadata": {},
   "outputs": [
    {
     "data": {
      "text/plain": [
       "Text(0.5, 1.0, 'x-y Tongue Visualization for First Frame')"
      ]
     },
     "execution_count": 29,
     "metadata": {},
     "output_type": "execute_result"
    },
    {
     "data": {
      "image/png": "[encoded data removed]",
      "text/plain": [
       "<Figure size 640x480 with 1 Axes>"
      ]
     },
     "metadata": {},
     "output_type": "display_data"
    }
   ],
   "source": [
    "tongue_first_frame = tongue_sacra[0]\n",
    "\n",
    "get_col = lambda arr, dim: [i[dim] for i in arr]\n",
    "\n",
    "tongue_first_frame_x = get_col(tongue_first_frame, 0)\n",
    "tongue_first_frame_y = get_col(tongue_first_frame, 1)\n",
    "\n",
    "plt.scatter(tongue_first_frame_x, tongue_first_frame_y)\n",
    "plt.xlabel(\"x dim\")\n",
    "plt.ylabel(\"y dim\")\n",
    "plt.title(\"x-y Tongue Visualization for First Frame\")"
   ]
  },
  {
   "cell_type": "code",
   "execution_count": null,
   "metadata": {},
   "outputs": [],
   "source": []
  }
 ],
 "metadata": {
  "kernelspec": {
   "display_name": "gen_ema",
   "language": "python",
   "name": "python3"
  },
  "language_info": {
   "codemirror_mode": {
    "name": "ipython",
    "version": 3
   },
   "file_extension": ".py",
   "mimetype": "text/x-python",
   "name": "python",
   "nbconvert_exporter": "python",
   "pygments_lexer": "ipython3",
   "version": "3.8.17"
  }
 },
 "nbformat": 4,
 "nbformat_minor": 2
}
